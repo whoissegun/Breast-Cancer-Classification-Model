{
  "nbformat": 4,
  "nbformat_minor": 0,
  "metadata": {
    "colab": {
      "provenance": []
    },
    "kernelspec": {
      "name": "python3",
      "display_name": "Python 3"
    },
    "language_info": {
      "name": "python"
    }
  },
  "cells": [
    {
      "cell_type": "code",
      "execution_count": 73,
      "metadata": {
        "colab": {
          "base_uri": "https://localhost:8080/"
        },
        "id": "LM9tGwEG_ZgX",
        "outputId": "18b2e7ed-d9b6-4ccf-92ed-fdaa63b9929f"
      },
      "outputs": [
        {
          "output_type": "stream",
          "name": "stdout",
          "text": [
            "Drive already mounted at /content/drive; to attempt to forcibly remount, call drive.mount(\"/content/drive\", force_remount=True).\n"
          ]
        }
      ],
      "source": [
        "from google.colab import drive\n",
        "drive.mount('/content/drive')"
      ]
    },
    {
      "cell_type": "code",
      "source": [
        "!mkdir ~/.kaggle\n"
      ],
      "metadata": {
        "colab": {
          "base_uri": "https://localhost:8080/"
        },
        "id": "eQKof1U9_vwY",
        "outputId": "db90717e-8938-4144-a9ae-75a34dcfa92f"
      },
      "execution_count": 74,
      "outputs": [
        {
          "output_type": "stream",
          "name": "stdout",
          "text": [
            "mkdir: cannot create directory ‘/root/.kaggle’: File exists\n"
          ]
        }
      ]
    },
    {
      "cell_type": "code",
      "source": [
        "!cp /content/drive/MyDrive/KAGGLE_API_CREDENTIALS/kaggle.json ~/.kaggle/kaggle.json"
      ],
      "metadata": {
        "id": "G94AYYK__7eP"
      },
      "execution_count": 75,
      "outputs": []
    },
    {
      "cell_type": "code",
      "source": [
        "!chmod 600 ~/.kaggle/kaggle.json"
      ],
      "metadata": {
        "id": "NoT3E5ke_8Vy"
      },
      "execution_count": 76,
      "outputs": []
    },
    {
      "cell_type": "code",
      "source": [
        "!kaggle datasets download -d yasserh/breast-cancer-dataset"
      ],
      "metadata": {
        "colab": {
          "base_uri": "https://localhost:8080/"
        },
        "id": "4bdq-UvKAAew",
        "outputId": "41ead7d9-4bb8-48a4-d5f3-9ac56a79cb29"
      },
      "execution_count": 77,
      "outputs": [
        {
          "output_type": "stream",
          "name": "stdout",
          "text": [
            "breast-cancer-dataset.zip: Skipping, found more recently modified local copy (use --force to force download)\n"
          ]
        }
      ]
    },
    {
      "cell_type": "code",
      "source": [
        "!unzip breast-cancer-dataset.zip"
      ],
      "metadata": {
        "colab": {
          "base_uri": "https://localhost:8080/"
        },
        "id": "OzldwNhGAI6G",
        "outputId": "5d7a9c93-06e9-4d74-e4f1-34c4d1ec63f4"
      },
      "execution_count": 78,
      "outputs": [
        {
          "output_type": "stream",
          "name": "stdout",
          "text": [
            "Archive:  breast-cancer-dataset.zip\n",
            "replace breast-cancer.csv? [y]es, [n]o, [A]ll, [N]one, [r]ename: n\n"
          ]
        }
      ]
    },
    {
      "cell_type": "code",
      "source": [
        "from torch import nn\n",
        "import torch\n",
        "from sklearn.model_selection import train_test_split\n",
        "import numpy as np\n",
        "import matplotlib.pyplot as plt\n",
        "from sklearn.preprocessing import StandardScaler, LabelEncoder\n",
        "import pandas as pd\n",
        "from torch.utils.data import DataLoader,TensorDataset\n",
        "from sklearn.metrics import classification_report"
      ],
      "metadata": {
        "id": "CJ75AwG0AQV6"
      },
      "execution_count": 79,
      "outputs": []
    },
    {
      "cell_type": "code",
      "source": [
        "df = pd.read_csv(\"breast-cancer.csv\")\n",
        "df = df.dropna()\n",
        "y = df['diagnosis']\n",
        "X = df.drop(['id','diagnosis'], axis=1)\n"
      ],
      "metadata": {
        "id": "8wgCgnUcBV1U"
      },
      "execution_count": 80,
      "outputs": []
    },
    {
      "cell_type": "code",
      "source": [
        "X_train,X_test,y_train,y_test = train_test_split(X,y, test_size=0.33, random_state=42)"
      ],
      "metadata": {
        "id": "UGPoIh0MC7g0"
      },
      "execution_count": 81,
      "outputs": []
    },
    {
      "cell_type": "code",
      "source": [
        "scalar = StandardScaler()\n",
        "le = LabelEncoder()\n",
        "X_train = scalar.fit_transform(X_train)\n",
        "X_test = scalar.fit_transform(X_test)\n",
        "y_train = le.fit_transform(y_train)\n",
        "y_test = le.transform(y_test)"
      ],
      "metadata": {
        "id": "P7ojFSxeMSY0"
      },
      "execution_count": 82,
      "outputs": []
    },
    {
      "cell_type": "code",
      "source": [
        "X_train = torch.tensor(X_train, dtype=torch.float32)\n",
        "X_test = torch.tensor(X_test, dtype=torch.float32)\n",
        "y_train = torch.tensor(y_train, dtype=torch.float32)\n",
        "y_test = torch.tensor(y_test, dtype=torch.float32)"
      ],
      "metadata": {
        "id": "zS7W0-8CazxW"
      },
      "execution_count": 83,
      "outputs": []
    },
    {
      "cell_type": "code",
      "source": [
        "train_dataset = TensorDataset(X_train,y_train)\n",
        "test_dataset = TensorDataset(X_test,y_test)"
      ],
      "metadata": {
        "id": "nolhPu1rbe8C"
      },
      "execution_count": 84,
      "outputs": []
    },
    {
      "cell_type": "code",
      "source": [
        "train_loader = DataLoader(train_dataset,batch_size=32,shuffle=True)\n",
        "test_loader = DataLoader(test_dataset,batch_size=32,shuffle=False)"
      ],
      "metadata": {
        "id": "ssQK2G0ABioW"
      },
      "execution_count": 85,
      "outputs": []
    },
    {
      "cell_type": "code",
      "source": [
        "class BreastCancerClassification(nn.Module):\n",
        "  def __init__(self,input_layer):\n",
        "    super().__init__()\n",
        "    self.layer_stack = nn.Sequential(\n",
        "    nn.Linear(in_features=input_layer, out_features=45),\n",
        "    nn.BatchNorm1d(45),\n",
        "    nn.ReLU(),\n",
        "    nn.Linear(in_features=45, out_features=35),\n",
        "    nn.BatchNorm1d(35),\n",
        "    nn.ReLU(),\n",
        "    nn.Linear(in_features=35,out_features=20),\n",
        "    nn.BatchNorm1d(20),\n",
        "    nn.ReLU(),\n",
        "    nn.Linear(in_features=20,out_features=1)\n",
        "    )\n",
        "\n",
        "\n",
        "  def forward(self,X):\n",
        "    return self.layer_stack(X).squeeze(dim=1)\n",
        "\n",
        "\n",
        ""
      ],
      "metadata": {
        "id": "14uo_f73HinR"
      },
      "execution_count": 91,
      "outputs": []
    },
    {
      "cell_type": "code",
      "source": [
        "model = BreastCancerClassification(30)"
      ],
      "metadata": {
        "id": "gaj7a4kXPmHA"
      },
      "execution_count": 92,
      "outputs": []
    },
    {
      "cell_type": "code",
      "source": [
        "loss_fn = nn.BCEWithLogitsLoss()\n",
        "optimizer = torch.optim.Adam(params=model.parameters(),lr=0.08)"
      ],
      "metadata": {
        "id": "aXV7VOC6OZS5"
      },
      "execution_count": 93,
      "outputs": []
    },
    {
      "cell_type": "code",
      "source": [
        "import copy\n",
        "best_report = None\n",
        "best_model_weights = model.state_dict()\n",
        "best_acc = 0.0\n",
        "train_losses  = []\n",
        "test_losses  = []\n",
        "epochs = 1000\n",
        "\n",
        "for epoch in range(epochs):\n",
        "    model.train()\n",
        "    epoch_train_loss_sum = 0 #tracks the sum of train losses processed in a single epoch\n",
        "    epoch_train_samples = 0 #tracks the number of samples seen in a single epoch\n",
        "\n",
        "    for X_train,y_train in train_loader:\n",
        "        optimizer.zero_grad()\n",
        "        y_train_pred = model(X_train)\n",
        "        train_loss = loss_fn(y_train_pred,y_train)\n",
        "        epoch_train_loss_sum += train_loss.item() * X_train.size(0)\n",
        "        epoch_train_samples += X_train.size(0)\n",
        "        train_loss.backward()\n",
        "        optimizer.step()\n",
        "\n",
        "    epoch_avg_train_loss = epoch_train_loss_sum / epoch_train_samples\n",
        "    train_losses.append(epoch_avg_train_loss)\n",
        "\n",
        "    if epoch % 20 ==0:\n",
        "        epoch_test_loss_sum = 0\n",
        "        epoch_test_samples = 0\n",
        "        y_test_preds = []\n",
        "        y_test_trues = []\n",
        "        for X_test,y_test in test_loader:\n",
        "            with torch.no_grad():\n",
        "                model.eval()\n",
        "                y_test_pred = model(X_test)\n",
        "                test_loss  = loss_fn(y_test_pred, y_test)\n",
        "                # Apply sigmoid function to output to get probabilities\n",
        "                y_test_pred = torch.sigmoid(y_test_pred)\n",
        "                # Apply threshold\n",
        "                y_test_pred = (y_test_pred > 0.5).float()\n",
        "                y_test_preds.extend(list(y_test_pred.numpy()))\n",
        "                y_test_trues.extend(list(y_test.numpy()))\n",
        "                epoch_test_loss_sum += test_loss.item() * X_test.size(0)\n",
        "                epoch_test_samples += X_test.size(0)\n",
        "\n",
        "        epoch_avg_test_loss = epoch_test_loss_sum / epoch_test_samples\n",
        "        test_losses.append(epoch_avg_test_loss)\n",
        "        report = classification_report(y_true=y_test_trues,y_pred=y_test_preds,target_names=[\"B\",\"M\"], output_dict=True,zero_division=\"warn\")\n",
        "        if report['accuracy'] > best_acc:\n",
        "            best_acc = report['accuracy']\n",
        "            best_report = report\n",
        "            best_model_weights = copy.deepcopy(model.state_dict())\n",
        "\n",
        "\n",
        "\n",
        "plt.figure(figsize=(10,5))\n",
        "plt.title(\"Train/Test Losses over Epochs\")\n",
        "plt.plot(train_losses, label='Train Loss')\n",
        "plt.plot(test_losses, label='Test Loss')\n",
        "plt.xlabel(\"Epochs\")\n",
        "plt.ylabel(\"Loss\")\n",
        "plt.legend(loc='upper right')\n",
        "plt.show()\n",
        "print(best_report)\n"
      ],
      "metadata": {
        "colab": {
          "base_uri": "https://localhost:8080/",
          "height": 524
        },
        "id": "2O86OlZqS5Oc",
        "outputId": "57d2a532-681b-4034-8073-a57cea0c12d0"
      },
      "execution_count": 97,
      "outputs": [
        {
          "output_type": "display_data",
          "data": {
            "text/plain": [
              "<Figure size 1000x500 with 1 Axes>"
            ],
            "image/png": "[encoded data removed]"
          },
          "metadata": {}
        },
        {
          "output_type": "stream",
          "name": "stdout",
          "text": [
            "{'B': {'precision': 0.9834710743801653, 'recall': 0.9834710743801653, 'f1-score': 0.9834710743801653, 'support': 121}, 'M': {'precision': 0.9701492537313433, 'recall': 0.9701492537313433, 'f1-score': 0.9701492537313433, 'support': 67}, 'accuracy': 0.9787234042553191, 'macro avg': {'precision': 0.9768101640557543, 'recall': 0.9768101640557543, 'f1-score': 0.9768101640557543, 'support': 188}, 'weighted avg': {'precision': 0.9787234042553191, 'recall': 0.9787234042553191, 'f1-score': 0.9787234042553191, 'support': 188}}\n"
          ]
        }
      ]
    },
    {
      "cell_type": "code",
      "source": [
        "model.load_state_dict(best_model_weights)\n",
        "torch.save(model.state_dict(),'Breast_Cancer_Classification_Model')"
      ],
      "metadata": {
        "id": "bEya0mkQd-Rz"
      },
      "execution_count": 98,
      "outputs": []
    },
    {
      "cell_type": "code",
      "source": [],
      "metadata": {
        "id": "LwdR6tIWTWWH"
      },
      "execution_count": null,
      "outputs": []
    }
  ]
}